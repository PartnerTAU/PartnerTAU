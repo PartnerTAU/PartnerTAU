{
 "cells": [
  {
   "cell_type": "code",
   "execution_count": 1,
   "metadata": {},
   "outputs": [
    {
     "name": "stdout",
     "output_type": "stream",
     "text": [
      "Collecting selenium\n",
      "  Downloading selenium-3.141.0-py2.py3-none-any.whl (904 kB)\n",
      "Requirement already satisfied: urllib3 in c:\\users\\rotem\\anaconda3\\lib\\site-packages (from selenium) (1.25.8)\n",
      "Installing collected packages: selenium\n",
      "Successfully installed selenium-3.141.0\n",
      "Note: you may need to restart the kernel to use updated packages.\n"
     ]
    }
   ],
   "source": [
    "pip install selenium"
   ]
  },
  {
   "cell_type": "code",
   "execution_count": 2,
   "metadata": {},
   "outputs": [],
   "source": [
    "import selenium"
   ]
  },
  {
   "cell_type": "code",
   "execution_count": 4,
   "metadata": {},
   "outputs": [
    {
     "name": "stdout",
     "output_type": "stream",
     "text": [
      "86\n"
     ]
    }
   ],
   "source": [
    "from selenium import webdriver\n",
    "from selenium.webdriver.common.by import By\n",
    "from selenium.webdriver.support.ui import WebDriverWait\n",
    "from selenium.webdriver.support import expected_conditions as EC\n",
    "from selenium.webdriver.common.action_chains import ActionChains\n",
    "from selenium.webdriver.common.keys import Keys\n",
    "from selenium.webdriver.support.ui import Select\n",
    "\n",
    "path = \"C:\\Program Files (x86)\\chromedriver.exe\"\n",
    "driver = webdriver.Chrome(path)\n",
    "driver.get(\"https://www.ims.tau.ac.il/tal/kr/search_p.aspx\")\n",
    "select = Select(driver.find_element_by_id('lstYear1'))\n",
    "select.select_by_value('2020')\n",
    "semesters = (driver.find_elements_by_name('ckSem'))\n",
    "\n",
    "semesters[3].click()\n",
    "\n",
    "\n",
    "facultyselect1 = Select(driver.find_element_by_id('lstDep1'))\n",
    "facultyselect1.select_by_value('08')\n",
    "facultyselect2 = Select(driver.find_element_by_id('lstDep2'))\n",
    "facultyselect2.select_by_value('05')\n",
    "facultyselect3 = Select(driver.find_element_by_id('lstDep3'))\n",
    "facultyselect3.select_by_value('10')\n",
    "facultyselect4 = Select(driver.find_element_by_id('lstDep4'))\n",
    "facultyselect4.select_by_value('04')\n",
    "facultyselect5 = Select(driver.find_element_by_id('lstDep5'))\n",
    "facultyselect5.select_by_value('06-16')\n",
    "facultyselect6 = Select(driver.find_element_by_id('lstDep6'))\n",
    "facultyselect6.select_by_value('03')\n",
    "facultyselect7 = Select(driver.find_element_by_id('lstDep7'))\n",
    "facultyselect7.select_by_value('14')\n",
    "facultyselect8 = Select(driver.find_element_by_id('lstDep8'))\n",
    "facultyselect8.select_by_value('12')\n",
    "facultyselect9 = Select(driver.find_element_by_id('lstDep9'))\n",
    "facultyselect9.select_by_value('01')\n",
    "facultyselect10 = Select(driver.find_element_by_id('lstDep10'))\n",
    "facultyselect10.select_by_value('11')\n",
    "facultyselect12 = Select(driver.find_element_by_id('lstDep12'))\n",
    "facultyselect12.select_by_value('1880-1882')\n",
    "facultyselect13 = Select(driver.find_element_by_id('lstDep13'))\n",
    "facultyselect13.select_by_value('1843')\n",
    "facultyselect14 = Select(driver.find_element_by_id('lstDep14'))\n",
    "facultyselect14.select_by_value('2120')\n",
    "\n",
    "(driver.find_element_by_id('search1')).click()\n",
    "\n",
    "elements = driver.find_elements_by_class_name('listtdbld')\n",
    "lines=[]\n",
    "\n",
    "\n",
    "for i in range(len(elements)):\n",
    "    line = str(elements[i].text)\n",
    "    line = line.split(\"  \")\n",
    "    l = len(line[1])\n",
    "    line1 = line[1][9:]\n",
    "    line2 = line[1][6:8]\n",
    "    lines.append((line[0],line1,line2))\n",
    "\n",
    "while True:\n",
    "    try:\n",
    "        (driver.find_element_by_id('next')).click()\n",
    "        elements = driver.find_elements_by_class_name('listtdbld')\n",
    "        for i in range(len(elements)):\n",
    "            line = str(elements[i].text)\n",
    "            line = line.split(\"  \")\n",
    "            l = len(line[1])\n",
    "            line1 = line[1][9:]\n",
    "            line2 = line[1][6:8]\n",
    "            lines.append([line[0],line1,line2])\n",
    "    except:\n",
    "        #driver.quit()\n",
    "        break\n",
    "print(len(lines)) "
   ]
  },
  {
   "cell_type": "code",
   "execution_count": 6,
   "metadata": {},
   "outputs": [],
   "source": [
    "import csv\n",
    "with open('coursesC.txt','w', encoding='utf-8') as f:\n",
    "    for i in range(len(lines)):\n",
    "        f.write(\"INSERT INTO partnertau.courses (`number`,`group`, `name`, `semester`) values('\" + str(lines[i][0]) + \"','\" + str(lines[i][2])+ \"','\" +  str(lines[i][1])+ \"','C');\")\n",
    "        f.write(\"\\n\")\n"
   ]
  },
  {
   "cell_type": "code",
   "execution_count": null,
   "metadata": {},
   "outputs": [],
   "source": []
  }
 ],
 "metadata": {
  "kernelspec": {
   "display_name": "Python 3",
   "language": "python",
   "name": "python3"
  },
  "language_info": {
   "codemirror_mode": {
    "name": "ipython",
    "version": 3
   },
   "file_extension": ".py",
   "mimetype": "text/x-python",
   "name": "python",
   "nbconvert_exporter": "python",
   "pygments_lexer": "ipython3",
   "version": "3.7.6"
  }
 },
 "nbformat": 4,
 "nbformat_minor": 4
}
